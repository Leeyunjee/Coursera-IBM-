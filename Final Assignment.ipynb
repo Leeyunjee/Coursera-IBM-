{
 "cells": [
  {
   "cell_type": "markdown",
   "id": "403d2c5e-0154-4c84-9c74-c2df0274dc8f",
   "metadata": {},
   "source": [
    "### Data Science Tools and Ecosystem"
   ]
  },
  {
   "cell_type": "markdown",
   "id": "52b815df-7002-4fe9-836b-9da4e1e98683",
   "metadata": {},
   "source": [
    "In this notebook, Data Science Tools and Ecosystem are summarized."
   ]
  },
  {
   "cell_type": "markdown",
   "id": "8ed32498-18e0-483d-8314-461e3824dadf",
   "metadata": {},
   "source": [
    "**Objectives:**  \n",
    "unordered list of popular languages for Data Science  \n",
    "* Python  \n",
    "* R  \n",
    "* SQL"
   ]
  },
  {
   "cell_type": "markdown",
   "id": "7258994c-f333-49f8-bd07-00d6d2175f97",
   "metadata": {},
   "source": [
    "Some of the popular languages that Data Scientists use are:  \n",
    "Ordered list  \n",
    "1. Python  \n",
    "2. R  \n",
    "3. SQL"
   ]
  },
  {
   "cell_type": "markdown",
   "id": "1b9a7290-bdc1-4639-89d5-a1ce02a28682",
   "metadata": {},
   "source": [
    "Some of the commonly used libraries used by Data Scientists include:  \n",
    "Ordered list  \n",
    "1. TensorFlow  \n",
    "2. Pandas  \n",
    "3. NumPy"
   ]
  },
  {
   "cell_type": "markdown",
   "id": "f6edd791-c414-4bc5-b164-b15e059b84a3",
   "metadata": {},
   "source": [
    "Data Science Tools  \n",
    "| Tools |  \n",
    "|:----|  \n",
    "| Jupyter Notebook |  \n",
    "| R studio |  \n",
    "| Github |"
   ]
  },
  {
   "cell_type": "markdown",
   "id": "cec27443-4c6e-493f-8499-8781bd778652",
   "metadata": {},
   "source": [
    "### Below are a few examples of evaluating arithmetic expressions in Python"
   ]
  },
  {
   "cell_type": "code",
   "execution_count": 2,
   "id": "d75adc34-d812-4248-8ebe-78a8530bb706",
   "metadata": {},
   "outputs": [
    {
     "data": {
      "text/plain": [
       "17"
      ]
     },
     "execution_count": 2,
     "metadata": {},
     "output_type": "execute_result"
    }
   ],
   "source": [
    "(3*4)+5\n",
    "\n",
    "#This a simple arithmetic expression to mutiply then add integers"
   ]
  },
  {
   "cell_type": "code",
   "execution_count": 3,
   "id": "4c4944b7-f645-4320-ba4d-d3396270e2ef",
   "metadata": {},
   "outputs": [
    {
     "data": {
      "text/plain": [
       "3.3333333333333335"
      ]
     },
     "execution_count": 3,
     "metadata": {},
     "output_type": "execute_result"
    }
   ],
   "source": [
    "200/60\n",
    "\n",
    "#This will convert 200 minutes to hours by diving by 60"
   ]
  },
  {
   "cell_type": "markdown",
   "id": "4823ea1c-ec97-4daf-9243-dc685e7e6289",
   "metadata": {},
   "source": [
    "## Author  \n",
    "Lee Yunjee"
   ]
  }
 ],
 "metadata": {
  "kernelspec": {
   "display_name": "Python",
   "language": "python",
   "name": "conda-env-python-py"
  },
  "language_info": {
   "codemirror_mode": {
    "name": "ipython",
    "version": 3
   },
   "file_extension": ".py",
   "mimetype": "text/x-python",
   "name": "python",
   "nbconvert_exporter": "python",
   "pygments_lexer": "ipython3",
   "version": "3.7.12"
  }
 },
 "nbformat": 4,
 "nbformat_minor": 5
}
